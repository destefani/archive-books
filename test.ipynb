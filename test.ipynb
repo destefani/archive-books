{
 "cells": [
  {
   "cell_type": "markdown",
   "metadata": {},
   "source": [
    "# Bibliothek\n",
    "\n",
    "Python library to download, organize and analyze books from archive.org\n",
    "\n",
    "It is composed by three main classes:\n",
    "- `Library`: Here is where books are cataloged and stored.\n",
    "- `Librarian`: A librarian is a class that allows you to interact with a `Library`\n",
    "- `Book`: It contains the information related to a book.\n",
    "- `Historian`: It analyzes book's compositions."
   ]
  },
  {
   "cell_type": "code",
   "execution_count": 5,
   "metadata": {},
   "outputs": [],
   "source": [
    "from bibliothek import Library, Librarian, Book"
   ]
  },
  {
   "cell_type": "markdown",
   "metadata": {},
   "source": [
    "## Library"
   ]
  },
  {
   "cell_type": "code",
   "execution_count": 8,
   "metadata": {},
   "outputs": [
    {
     "name": "stdout",
     "output_type": "stream",
     "text": [
      "Library name: alexandria\n"
     ]
    }
   ],
   "source": [
    "# Open a library\n",
    "\n",
    "library_name = 'alexandria'\n",
    "\n",
    "library = Library(library_name)\n",
    "# library.open_library()\n",
    "\n",
    "print('Library name:', library.name)\n"
   ]
  },
  {
   "cell_type": "markdown",
   "metadata": {},
   "source": [
    "## Add Books"
   ]
  },
  {
   "cell_type": "code",
   "execution_count": 10,
   "metadata": {},
   "outputs": [
    {
     "ename": "TypeError",
     "evalue": "string indices must be integers",
     "output_type": "error",
     "traceback": [
      "\u001b[0;31m---------------------------------------------------------------------------\u001b[0m",
      "\u001b[0;31mTypeError\u001b[0m                                 Traceback (most recent call last)",
      "\u001b[1;32m/Users/marcelodestefani/code/archive-books/test.ipynb Cell 6'\u001b[0m in \u001b[0;36m<module>\u001b[0;34m\u001b[0m\n\u001b[1;32m      <a href='vscode-notebook-cell:/Users/marcelodestefani/code/archive-books/test.ipynb#ch0000007?line=3'>4</a>\u001b[0m \u001b[39m# Book\u001b[39;00m\n\u001b[1;32m      <a href='vscode-notebook-cell:/Users/marcelodestefani/code/archive-books/test.ipynb#ch0000007?line=4'>5</a>\u001b[0m book_id \u001b[39m=\u001b[39m \u001b[39m'\u001b[39m\u001b[39m1200thedresdencodex1200ad\u001b[39m\u001b[39m'\u001b[39m\n\u001b[0;32m----> <a href='vscode-notebook-cell:/Users/marcelodestefani/code/archive-books/test.ipynb#ch0000007?line=5'>6</a>\u001b[0m book \u001b[39m=\u001b[39m librarian\u001b[39m.\u001b[39;49mget_book(book_id)\n\u001b[1;32m      <a href='vscode-notebook-cell:/Users/marcelodestefani/code/archive-books/test.ipynb#ch0000007?line=6'>7</a>\u001b[0m \u001b[39mprint\u001b[39m(book)\n",
      "File \u001b[0;32m~/code/archive-books/bibliothek.py:127\u001b[0m, in \u001b[0;36mLibrarian.get_book\u001b[0;34m(self, book)\u001b[0m\n\u001b[1;32m    <a href='file:///~/code/archive-books/bibliothek.py?line=125'>126</a>\u001b[0m \u001b[39mdef\u001b[39;00m \u001b[39mget_book\u001b[39m(\u001b[39mself\u001b[39m, book):\n\u001b[0;32m--> <a href='file:///~/code/archive-books/bibliothek.py?line=126'>127</a>\u001b[0m     book_identifier \u001b[39m=\u001b[39m book[\u001b[39m'\u001b[39;49m\u001b[39midentifier\u001b[39;49m\u001b[39m'\u001b[39;49m]\n\u001b[1;32m    <a href='file:///~/code/archive-books/bibliothek.py?line=127'>128</a>\u001b[0m     book_directory \u001b[39m=\u001b[39m Path(\u001b[39mself\u001b[39m\u001b[39m.\u001b[39mlibrary_name) \u001b[39m/\u001b[39m \u001b[39m\"\u001b[39m\u001b[39mbooks\u001b[39m\u001b[39m\"\u001b[39m \u001b[39m/\u001b[39m book_identifier\n\u001b[1;32m    <a href='file:///~/code/archive-books/bibliothek.py?line=128'>129</a>\u001b[0m     book_directory\u001b[39m.\u001b[39mmkdir(parents\u001b[39m=\u001b[39m\u001b[39mTrue\u001b[39;00m, exist_ok\u001b[39m=\u001b[39m\u001b[39mTrue\u001b[39;00m)\n",
      "\u001b[0;31mTypeError\u001b[0m: string indices must be integers"
     ]
    }
   ],
   "source": [
    "# Instantiate a librarian\n",
    "librarian = Librarian(library_name)\n",
    "\n",
    "# Book\n",
    "book_id = '1200thedresdencodex1200ad'\n",
    "book = librarian.get_book(book_id)\n",
    "print(book)\n",
    "\n"
   ]
  },
  {
   "cell_type": "code",
   "execution_count": 10,
   "metadata": {},
   "outputs": [
    {
     "name": "stdout",
     "output_type": "stream",
     "text": [
      "[('catalog',)]\n"
     ]
    }
   ],
   "source": [
    "# test sql catalog\n",
    "\n",
    "import sqlite3\n",
    "\n",
    "conn = sqlite3.connect('alexandria/catalog.db')\n",
    "cursor = conn.cursor()\n",
    "cursor.execute(\"SELECT name FROM sqlite_master WHERE type='table';\")\n",
    "\n",
    "print(cursor.fetchall())\n"
   ]
  },
  {
   "cell_type": "code",
   "execution_count": null,
   "metadata": {},
   "outputs": [],
   "source": []
  }
 ],
 "metadata": {
  "interpreter": {
   "hash": "f52d8fa0f84aa80c4623dd86893c5edd013483afeba12fb0eb40a232e848af31"
  },
  "kernelspec": {
   "display_name": "Python 3.8.12 64-bit ('archive-books': conda)",
   "language": "python",
   "name": "python3"
  },
  "language_info": {
   "codemirror_mode": {
    "name": "ipython",
    "version": 3
   },
   "file_extension": ".py",
   "mimetype": "text/x-python",
   "name": "python",
   "nbconvert_exporter": "python",
   "pygments_lexer": "ipython3",
   "version": "3.8.12"
  },
  "orig_nbformat": 4
 },
 "nbformat": 4,
 "nbformat_minor": 2
}
