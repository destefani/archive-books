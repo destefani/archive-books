{
 "cells": [
  {
   "cell_type": "markdown",
   "metadata": {},
   "source": [
    "# Bibliothek\n",
    "\n",
    "Python library to download, organize and analyze books from archive.org\n",
    "\n",
    "It is composed by three main classes:\n",
    "- `Library`: Here is where books are cataloged and stored.\n",
    "- `Librarian`: A librarian is a class that allows you to interact with a `Library`\n",
    "- `Book`: It contains the information related to a book.\n",
    "- `Historian`: It analyzes book's compositions."
   ]
  },
  {
   "cell_type": "code",
   "execution_count": 4,
   "metadata": {},
   "outputs": [],
   "source": [
    "import json\n",
    "import os\n",
    "from pathlib import Path # implement paths!\n",
    "import sqlite3\n",
    "import tarfile\n",
    "import tempfile\n",
    "import zipfile\n",
    "# os.environ['OPENCV_IO_ENABLE_JASPER']='TRUE' # enable jasper\n",
    "import cv2\n",
    "import pandas as pd\n",
    "from tqdm import tqdm\n",
    "from internetarchive import get_item, download\n",
    "\n",
    "class Library:\n",
    "    \"Stores books and books catalog\"\n",
    "\n",
    "    def load_library(self, library_location):\n",
    "        \"Loads the library\"\n",
    "        self.library_location = Path(library_location)\n",
    "        self.name = self.library_location.stem\n",
    "\n",
    "        self.catalog_df = pd.read_csv(self.library_location / \"catalog.csv\")\n",
    "        print(f'Library {self.name} loaded')\n",
    "        print(f'Books: {len(self.catalog_df)}')\n",
    "\n",
    "    def open_library(self, name):\n",
    "        self.name = name\n",
    "        \"Creates a database and directory to store books\" \n",
    "        # Create database and catalog table\n",
    "        create_library(self.name)\n",
    "\n",
    "    def add_book(self, book_id: str):\n",
    "        \"Adds a book to the library\"\n",
    "        book_directory = self.library_location / book_id\n",
    "       \n",
    "        # Check if book is already in the catalog\n",
    "        if os.path.exists(book_directory):\n",
    "            raise Exception(\"Book already in the library\")\n",
    "        if book_id in self.catalog_df.identifier:\n",
    "            raise Exception(\"Book already in the catalog\") \n",
    "        \n",
    "        # Get book metadata\n",
    "        book_metadata = get_item(book_id).item_metadata\n",
    "        book_date = book_metadata['metadata']['date']\n",
    "        book_subject = book_metadata['metadata']['subject']\n",
    "        book_title = book_metadata['metadata']['title']\n",
    "        book_year = book_metadata['metadata']['year']\n",
    "        book_language = book_metadata['metadata']['language']\n",
    "\n",
    "        # Download book\n",
    "        with tempfile.TemporaryDirectory() as temp_dir:\n",
    "            temp_dir = Path(temp_dir)\n",
    "            download_book(book_id, temp_dir)\n",
    "            for file in os.listdir(temp_dir / book_id):\n",
    "                print(temp_dir / book_id / file)\n",
    "                extract(temp_dir / book_id / file, temp_dir / 'extracted')\n",
    "                for file in os.listdir(temp_dir / 'extracted'):\n",
    "                    convert_jp2_to_png(temp_dir / 'extracted', book_directory)\n",
    "        \n",
    "        # Add book to the catalog\n",
    "        book_df = pd.DataFrame(\n",
    "            {'identifier': book_id,\n",
    "             'title': book_title,\n",
    "             'subject': book_subject,\n",
    "             'date': book_date,\n",
    "             'year': book_year,\n",
    "             'language': book_language}\n",
    "        )\n",
    "        self.catalog_df = pd.concat([self.catalog_df, book_df])\n",
    "        self.catalog_df.to_csv(self.library_location / \"catalog.csv\", index=False)\n",
    "        print('Book added to the catalog')\n",
    "\n",
    "# Library utility functions\n",
    "def check_if_library_exists(library_name: str) -> bool:\n",
    "    \"Checks if the library exists\"\n",
    "    return os.path.exists(library_name)\n",
    "\n",
    "def create_library(name: str, directory='.'):\n",
    "    \"Creates a .csv file with the books catalog\"\n",
    "    # Check if the library exists\n",
    "    print('- - - Creating library - - -')\n",
    "    print('Name:', name)\n",
    "    library_path = Path(directory) / name\n",
    "    print('Location:', library_path)\n",
    "    if check_if_library_exists(library_path):\n",
    "        raise Exception(f\"The library {name} already exists\")\n",
    "\n",
    "    # Create directories\n",
    "    os.makedirs(library_path / \"books\")\n",
    "    \n",
    "    # Create the library catalog\n",
    "    library_df =  pd.DataFrame(columns=['identifier', 'date', 'subject', 'title', 'year', 'language'])\n",
    "    library_df.to_csv(library_path / 'catalog.csv', index=False)\n",
    "    \n",
    "    print('Done')\n",
    "\n",
    "# Download and process book\n",
    "def download_book(book_id, dest_path, verbose=True):\n",
    "    print(f'Downloading {book_id}')\n",
    "    download(\n",
    "        book_id,\n",
    "        destdir=dest_path,\n",
    "        formats=\"Single Page Processed JP2 ZIP\",\n",
    "        verbose=verbose,\n",
    "    )\n",
    "\n",
    "def extract(file, dest_path):\n",
    "    print(f'Extracting {file} to {dest_path}')\n",
    "    if file.suffix == \".zip\":\n",
    "        with zipfile.ZipFile(file, \"r\") as zip_ref:\n",
    "            zip_ref.extractall(dest_path)\n",
    "    if file.suffix == \".tar\":\n",
    "        tar = tarfile.open(file)\n",
    "        tar.extractall(dest_path)\n",
    "        tar.close()\n",
    "    print('Done')\n",
    "\n",
    "\n",
    "def convert_jp2_to_png(jp2_directory, png_directory):\n",
    "    print('Converting images to png')\n",
    "    image_files_list = list(jp2_directory.rglob('*.jp2'))\n",
    "    for file in tqdm(image_files_list):\n",
    "        print(file)\n",
    "        image = cv2.imread(str(file))\n",
    "        filename = str((Path(png_directory) / file.stem).with_suffix('.png'))\n",
    "        cv2.imwrite(filename, image)\n",
    "    print('Done')"
   ]
  },
  {
   "cell_type": "code",
   "execution_count": 10,
   "metadata": {},
   "outputs": [
    {
     "name": "stdout",
     "output_type": "stream",
     "text": [
      "- - - Creating library - - -\n",
      "Name: alexandria\n",
      "Location: alexandria\n",
      "Done\n"
     ]
    }
   ],
   "source": [
    "library = Library()\n",
    "library.open_library('alexandria')"
   ]
  },
  {
   "cell_type": "code",
   "execution_count": 17,
   "metadata": {},
   "outputs": [
    {
     "name": "stdout",
     "output_type": "stream",
     "text": [
      "Downloading 1200thedresdencodex1200ad\n",
      "1200thedresdencodex1200ad:\n",
      " downloaded 1200thedresdencodex1200ad/1200 The Dresden Codex 1200 AD_jp2.zip to test/1200thedresdencodex1200ad/1200 The Dresden Codex 1200 AD_jp2.zip\n"
     ]
    }
   ],
   "source": [
    "download_book('1200thedresdencodex1200ad', 'test')"
   ]
  },
  {
   "cell_type": "code",
   "execution_count": 2,
   "metadata": {},
   "outputs": [
    {
     "name": "stdout",
     "output_type": "stream",
     "text": [
      "Library alexandria loaded\n",
      "Books: 0\n",
      "Extracting test/1200thedresdencodex1200ad/1200 The Dresden Codex 1200 AD_jp2.zip to test/extracted\n",
      "Done\n",
      "Converting images to png\n"
     ]
    },
    {
     "name": "stderr",
     "output_type": "stream",
     "text": [
      "0it [00:00, ?it/s]\n"
     ]
    },
    {
     "name": "stdout",
     "output_type": "stream",
     "text": [
      "Done\n",
      "Converting images to png\n"
     ]
    },
    {
     "name": "stderr",
     "output_type": "stream",
     "text": [
      "  0%|          | 0/78 [00:00<?, ?it/s]image too large\n",
      "error: cannot decode code stream\n",
      "  0%|          | 0/78 [00:00<?, ?it/s]"
     ]
    },
    {
     "name": "stdout",
     "output_type": "stream",
     "text": [
      "test/extracted/1200 The Dresden Codex 1200 AD_jp2/1200 The Dresden Codex 1200 AD_0034.jp2\n"
     ]
    },
    {
     "name": "stderr",
     "output_type": "stream",
     "text": [
      "\n"
     ]
    },
    {
     "ename": "error",
     "evalue": "OpenCV(4.5.5) /Users/runner/miniforge3/conda-bld/libopencv_1644507859398/work/modules/imgcodecs/src/loadsave.cpp:801: error: (-215:Assertion failed) !_img.empty() in function 'imwrite'\n",
     "output_type": "error",
     "traceback": [
      "\u001b[0;31m---------------------------------------------------------------------------\u001b[0m",
      "\u001b[0;31merror\u001b[0m                                     Traceback (most recent call last)",
      "\u001b[1;32m/Users/marcelodestefani/code/archive-books/test.ipynb Cell 5'\u001b[0m in \u001b[0;36m<module>\u001b[0;34m\u001b[0m\n\u001b[1;32m      <a href='vscode-notebook-cell:/Users/marcelodestefani/code/archive-books/test.ipynb#ch0000004?line=4'>5</a>\u001b[0m extract(Path(\u001b[39m'\u001b[39m\u001b[39mtest/1200thedresdencodex1200ad\u001b[39m\u001b[39m'\u001b[39m) \u001b[39m/\u001b[39m file, \u001b[39m'\u001b[39m\u001b[39mtest/extracted\u001b[39m\u001b[39m'\u001b[39m)\n\u001b[1;32m      <a href='vscode-notebook-cell:/Users/marcelodestefani/code/archive-books/test.ipynb#ch0000004?line=5'>6</a>\u001b[0m \u001b[39mfor\u001b[39;00m directory \u001b[39min\u001b[39;00m os\u001b[39m.\u001b[39mlistdir(\u001b[39m'\u001b[39m\u001b[39mtest/extracted\u001b[39m\u001b[39m'\u001b[39m):\n\u001b[0;32m----> <a href='vscode-notebook-cell:/Users/marcelodestefani/code/archive-books/test.ipynb#ch0000004?line=6'>7</a>\u001b[0m     convert_jp2_to_png(Path(\u001b[39m'\u001b[39;49m\u001b[39mtest/extracted\u001b[39;49m\u001b[39m'\u001b[39;49m) \u001b[39m/\u001b[39;49m directory, \u001b[39m'\u001b[39;49m\u001b[39m1200thedresdencodex1200ad\u001b[39;49m\u001b[39m'\u001b[39;49m)\n",
      "\u001b[1;32m/Users/marcelodestefani/code/archive-books/test.ipynb Cell 2'\u001b[0m in \u001b[0;36mconvert_jp2_to_png\u001b[0;34m(jp2_directory, png_directory)\u001b[0m\n\u001b[1;32m    <a href='vscode-notebook-cell:/Users/marcelodestefani/code/archive-books/test.ipynb#ch0000001?line=123'>124</a>\u001b[0m     image \u001b[39m=\u001b[39m cv2\u001b[39m.\u001b[39mimread(\u001b[39mstr\u001b[39m(file))\n\u001b[1;32m    <a href='vscode-notebook-cell:/Users/marcelodestefani/code/archive-books/test.ipynb#ch0000001?line=124'>125</a>\u001b[0m     filename \u001b[39m=\u001b[39m \u001b[39mstr\u001b[39m((Path(png_directory) \u001b[39m/\u001b[39m file\u001b[39m.\u001b[39mstem)\u001b[39m.\u001b[39mwith_suffix(\u001b[39m'\u001b[39m\u001b[39m.png\u001b[39m\u001b[39m'\u001b[39m))\n\u001b[0;32m--> <a href='vscode-notebook-cell:/Users/marcelodestefani/code/archive-books/test.ipynb#ch0000001?line=125'>126</a>\u001b[0m     cv2\u001b[39m.\u001b[39;49mimwrite(filename, image)\n\u001b[1;32m    <a href='vscode-notebook-cell:/Users/marcelodestefani/code/archive-books/test.ipynb#ch0000001?line=126'>127</a>\u001b[0m \u001b[39mprint\u001b[39m(\u001b[39m'\u001b[39m\u001b[39mDone\u001b[39m\u001b[39m'\u001b[39m)\n",
      "\u001b[0;31merror\u001b[0m: OpenCV(4.5.5) /Users/runner/miniforge3/conda-bld/libopencv_1644507859398/work/modules/imgcodecs/src/loadsave.cpp:801: error: (-215:Assertion failed) !_img.empty() in function 'imwrite'\n"
     ]
    }
   ],
   "source": [
    "library = Library()\n",
    "library.load_library('alexandria')\n",
    "\n",
    "for file in os.listdir('test/1200thedresdencodex1200ad'):\n",
    "    extract(Path('test/1200thedresdencodex1200ad') / file, 'test/extracted')\n",
    "    for directory in os.listdir('test/extracted'):\n",
    "        convert_jp2_to_png(Path('test/extracted') / directory, '1200thedresdencodex1200ad')\n"
   ]
  },
  {
   "cell_type": "code",
   "execution_count": 1,
   "metadata": {},
   "outputs": [
    {
     "ename": "NameError",
     "evalue": "name 'Library' is not defined",
     "output_type": "error",
     "traceback": [
      "\u001b[0;31m---------------------------------------------------------------------------\u001b[0m",
      "\u001b[0;31mNameError\u001b[0m                                 Traceback (most recent call last)",
      "\u001b[1;32m/Users/marcelodestefani/code/archive-books/test.ipynb Cell 7'\u001b[0m in \u001b[0;36m<module>\u001b[0;34m\u001b[0m\n\u001b[0;32m----> <a href='vscode-notebook-cell:/Users/marcelodestefani/code/archive-books/test.ipynb#ch0000009?line=0'>1</a>\u001b[0m library \u001b[39m=\u001b[39m Library()\n\u001b[1;32m      <a href='vscode-notebook-cell:/Users/marcelodestefani/code/archive-books/test.ipynb#ch0000009?line=1'>2</a>\u001b[0m library\u001b[39m.\u001b[39mload_library(\u001b[39m'\u001b[39m\u001b[39malexandria\u001b[39m\u001b[39m'\u001b[39m)\n",
      "\u001b[0;31mNameError\u001b[0m: name 'Library' is not defined"
     ]
    }
   ],
   "source": [
    "library = Library()\n",
    "library.load_library('alexandria')\n",
    "# library.add_book('1200thedresdencodex1200ad')"
   ]
  },
  {
   "cell_type": "code",
   "execution_count": 5,
   "metadata": {},
   "outputs": [
    {
     "name": "stderr",
     "output_type": "stream",
     "text": [
      "image too large\n",
      "error: cannot decode code stream\n"
     ]
    }
   ],
   "source": [
    "image = cv2.imread(\"test/extracted/1200 The Dresden Codex 1200 AD_jp2/1200 The Dresden Codex 1200 AD_0000.jp2\")"
   ]
  },
  {
   "cell_type": "code",
   "execution_count": null,
   "metadata": {},
   "outputs": [],
   "source": []
  }
 ],
 "metadata": {
  "interpreter": {
   "hash": "f52d8fa0f84aa80c4623dd86893c5edd013483afeba12fb0eb40a232e848af31"
  },
  "kernelspec": {
   "display_name": "Python 3.8.12 64-bit ('archive-books': conda)",
   "language": "python",
   "name": "python3"
  },
  "language_info": {
   "codemirror_mode": {
    "name": "ipython",
    "version": 3
   },
   "file_extension": ".py",
   "mimetype": "text/x-python",
   "name": "python",
   "nbconvert_exporter": "python",
   "pygments_lexer": "ipython3",
   "version": "3.8.12"
  },
  "orig_nbformat": 4
 },
 "nbformat": 4,
 "nbformat_minor": 2
}
