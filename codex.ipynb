{
 "cells": [
  {
   "cell_type": "markdown",
   "metadata": {},
   "source": [
    "## Idea\n",
    "Generar un libro falso\n",
    "\n",
    "- Clasificar paginas: tapas, imagenes solas, texto, otros\n",
    "- Entrenar modelos: tapas, anatomia, texto, etc\n"
   ]
  },
  {
   "cell_type": "code",
   "execution_count": 27,
   "metadata": {},
   "outputs": [],
   "source": [
    "from internetarchive import get_item, download"
   ]
  },
  {
   "cell_type": "code",
   "execution_count": 28,
   "metadata": {},
   "outputs": [
    {
     "data": {
      "text/plain": [
       "Item(identifier='1200thedresdencodex1200ad')"
      ]
     },
     "execution_count": 28,
     "metadata": {},
     "output_type": "execute_result"
    }
   ],
   "source": [
    "book_id = '1200thedresdencodex1200ad'\n",
    "\n",
    "item = get_item(book_id)\n",
    "item"
   ]
  },
  {
   "cell_type": "code",
   "execution_count": 29,
   "metadata": {},
   "outputs": [
    {
     "data": {
      "text/plain": [
       "{'identifier': '1200thedresdencodex1200ad',\n",
       " 'mediatype': 'texts',\n",
       " 'collection': ['opensource', 'community'],\n",
       " 'creator': 'Lost Library of the Atypical and Unobtainable',\n",
       " 'date': '1200',\n",
       " 'description': 'Dresden Codex<div>circa 1200 AD</div><div><br /></div><div><p style=\"margin:0.5em 0px 1em;padding:0px;border:0px;line-height:inherit;font-family:\\'-apple-system\\', BlinkMacSystemFont, \\'Segoe UI\\', Roboto, Lato, Helvetica, Arial, sans-serif;font-size:16px;vertical-align:baseline;background:rgb(255,255,255) none;color:rgb(34,34,34);\">The\\xa0<i style=\"margin:0px;padding:0px;border:0px;font-variant:inherit;font-weight:inherit;line-height:inherit;font-family:inherit;vertical-align:baseline;background:none;\"><b style=\"margin:0px;padding:0px;border:0px;font-style:inherit;font-variant:inherit;line-height:inherit;font-family:inherit;vertical-align:baseline;background:none;\">Dresden Codex</b></i>\\xa0is a\\xa0<a href=\"https://en.m.wikipedia.org/wiki/Maya_civilization\" title=\"Maya civilization\" style=\"margin:0px;padding:0px;border:0px;font-style:inherit;font-variant:inherit;font-weight:inherit;line-height:inherit;font-family:inherit;vertical-align:baseline;background:none;color:rgb(107,75,161);\" rel=\"nofollow\">Mayan</a>\\xa0book, the oldest surviving from the Americas, dating to the 13th or 14th century. The\\xa0<a href=\"https://en.m.wikipedia.org/wiki/Codex\" title=\"Codex\" style=\"margin:0px;padding:0px;border:0px;font-style:inherit;font-variant:inherit;font-weight:inherit;line-height:inherit;font-family:inherit;vertical-align:baseline;background:none;color:rgb(107,75,161);\" rel=\"nofollow\">codex</a>\\xa0was rediscovered in the city of\\xa0<a href=\"https://en.m.wikipedia.org/wiki/Dresden,_Germany\" class=\"mw-redirect\" title=\"Dresden, Germany\" style=\"margin:0px;padding:0px;border:0px;font-style:inherit;font-variant:inherit;font-weight:inherit;line-height:inherit;font-family:inherit;vertical-align:baseline;background:none;color:rgb(107,75,161);\" rel=\"nofollow\">Dresden, Germany</a>, hence the book\\'s present name. It is located in the museum of the\\xa0<a href=\"https://en.m.wikipedia.org/wiki/Saxon_State_and_University_Library_Dresden\" title=\"Saxon State and University Library Dresden\" style=\"margin:0px;padding:0px;border:0px;font-style:inherit;font-variant:inherit;font-weight:inherit;line-height:inherit;font-family:inherit;vertical-align:baseline;background:none;color:rgb(107,75,161);\" rel=\"nofollow\">Saxon State Library</a>.</p><p style=\"margin:0.5em 0px 1em;padding:0px;border:0px;line-height:inherit;font-family:\\'-apple-system\\', BlinkMacSystemFont, \\'Segoe UI\\', Roboto, Lato, Helvetica, Arial, sans-serif;font-size:16px;vertical-align:baseline;background:rgb(255,255,255) none;color:rgb(34,34,34);\">The book suffered serious water damage during World War II. The pages are made of\\xa0<a href=\"https://en.m.wikipedia.org/wiki/Amate\" title=\"Amate\" style=\"margin:0px;padding:0px;border:0px;font-style:inherit;font-variant:inherit;font-weight:inherit;line-height:inherit;font-family:inherit;vertical-align:baseline;background:none;color:rgb(107,75,161);\" rel=\"nofollow\">Amate</a>, 8 inches (20\\xa0cm) high, and can be folded\\xa0<a href=\"https://en.m.wikipedia.org/wiki/Accordion\" title=\"Accordion\" style=\"margin:0px;padding:0px;border:0px;font-style:inherit;font-variant:inherit;font-weight:inherit;line-height:inherit;font-family:inherit;vertical-align:baseline;background:none;color:rgb(107,75,161);\" rel=\"nofollow\">accordion-style</a>; when unfolded the codex is 12 feet (3.7\\xa0m) long. It is\\xa0<a href=\"https://en.m.wikipedia.org/wiki/Mesoamerican_writing_systems\" title=\"Mesoamerican writing systems\" style=\"margin:0px;padding:0px;border:0px;font-style:inherit;font-variant:inherit;font-weight:inherit;line-height:inherit;font-family:inherit;vertical-align:baseline;background:none;color:rgb(107,75,161);\" rel=\"nofollow\">written</a>\\xa0in\\xa0<a href=\"https://en.m.wikipedia.org/wiki/Mayan_hieroglyph\" class=\"mw-redirect\" title=\"Mayan hieroglyph\" style=\"margin:0px;padding:0px;border:0px;font-style:inherit;font-variant:inherit;font-weight:inherit;line-height:inherit;font-family:inherit;vertical-align:baseline;background:none;color:rgb(107,75,161);\" rel=\"nofollow\">Mayan hieroglyphs</a>\\xa0and refers to an original text of some three or four hundred years earlier, describing local history and\\xa0<a href=\"https://en.m.wikipedia.org/wiki/Maya_astronomy\" title=\"Maya astronomy\" style=\"margin:0px;padding:0px;border:0px;font-style:inherit;font-variant:inherit;font-weight:inherit;line-height:inherit;font-family:inherit;vertical-align:baseline;background:none;color:rgb(107,75,161);\" rel=\"nofollow\">astronomical tables</a>.</p></div>',\n",
       " 'scanner': 'Internet Archive HTML5 Uploader 1.6.4',\n",
       " 'subject': ['illuminated manuscripts; codex; codices; maya; mayan;',\n",
       "  'codex',\n",
       "  'codices'],\n",
       " 'title': 'Dresden Codex (1200)',\n",
       " 'publicdate': '2019-10-17 03:45:41',\n",
       " 'uploader': 'cprice1979@hotmail.com',\n",
       " 'addeddate': '2019-10-17 03:45:41',\n",
       " 'curation': '[curator]validator@archive.org[/curator][date]20191017035135[/date][comment]checked for malware[/comment]',\n",
       " 'identifier-access': 'http://archive.org/details/1200thedresdencodex1200ad',\n",
       " 'identifier-ark': 'ark:/13960/t4qk5d36c',\n",
       " 'ppi': '600',\n",
       " 'ocr': 'ABBYY FineReader 11.0 (Extended OCR)',\n",
       " 'year': '1200',\n",
       " 'language': 'English',\n",
       " 'backup_location': 'ia907003_32'}"
      ]
     },
     "execution_count": 29,
     "metadata": {},
     "output_type": "execute_result"
    }
   ],
   "source": [
    "item.item_metadata['metadata']"
   ]
  },
  {
   "cell_type": "code",
   "execution_count": 4,
   "metadata": {},
   "outputs": [
    {
     "data": {
      "text/plain": [
       "'600'"
      ]
     },
     "execution_count": 4,
     "metadata": {},
     "output_type": "execute_result"
    }
   ],
   "source": [
    "item.item_metadata['metadata']['ppi']"
   ]
  },
  {
   "cell_type": "code",
   "execution_count": 5,
   "metadata": {},
   "outputs": [
    {
     "data": {
      "text/plain": [
       "[{'name': '1200 The Dresden Codex 1200 AD.pdf',\n",
       "  'source': 'original',\n",
       "  'mtime': '1571283941',\n",
       "  'size': '21602016',\n",
       "  'md5': '92883447e5210bcd35b73d4e629c4ed0',\n",
       "  'crc32': '150c3d81',\n",
       "  'sha1': '9279f9bbcce42c8e9cb85ce0bdef0ab739a4b914',\n",
       "  'format': 'Image Container PDF'},\n",
       " {'name': '1200 The Dresden Codex 1200 AD_abbyy.gz',\n",
       "  'source': 'derivative',\n",
       "  'format': 'Abbyy GZ',\n",
       "  'original': '1200 The Dresden Codex 1200 AD_jp2.zip',\n",
       "  'mtime': '1571299938',\n",
       "  'size': '573984',\n",
       "  'md5': '2fb7e9c8dbb9b9b30d05fedbd70bba84',\n",
       "  'crc32': 'd9a4acf4',\n",
       "  'sha1': '8e9377f56d99f15c72c44db328f3f4b52921f5e2'},\n",
       " {'name': '1200 The Dresden Codex 1200 AD_djvu.txt',\n",
       "  'source': 'derivative',\n",
       "  'format': 'DjVuTXT',\n",
       "  'original': '1200 The Dresden Codex 1200 AD_djvu.xml',\n",
       "  'mtime': '1571299964',\n",
       "  'size': '27414',\n",
       "  'md5': '9e9721e88d67a8fb2bd3121f1432accb',\n",
       "  'crc32': '6f05b863',\n",
       "  'sha1': '3f4bbc79a5e4416f6206116c2603a385301a264c'},\n",
       " {'name': '1200 The Dresden Codex 1200 AD_djvu.xml',\n",
       "  'source': 'derivative',\n",
       "  'format': 'Djvu XML',\n",
       "  'original': '1200 The Dresden Codex 1200 AD_abbyy.gz',\n",
       "  'mtime': '1571299960',\n",
       "  'size': '1010963',\n",
       "  'md5': '9828149036f2cbb1b46fbb0e45572211',\n",
       "  'crc32': 'd03f542d',\n",
       "  'sha1': 'a358fc2388a605008f5f045d6f22e45377db1377'},\n",
       " {'name': '1200 The Dresden Codex 1200 AD_jp2.zip',\n",
       "  'source': 'derivative',\n",
       "  'format': 'Single Page Processed JP2 ZIP',\n",
       "  'original': '1200 The Dresden Codex 1200 AD.pdf',\n",
       "  'mtime': '1571294971',\n",
       "  'size': '122190480',\n",
       "  'md5': '67727c0c70326921a61f5dabc53442dc',\n",
       "  'crc32': '41219434',\n",
       "  'sha1': 'fbc6fc0ebf3c47e38a1648701470ef146828f8f3'},\n",
       " {'name': '1200 The Dresden Codex 1200 AD_scandata.xml',\n",
       "  'source': 'derivative',\n",
       "  'format': 'Scandata',\n",
       "  'original': '1200 The Dresden Codex 1200 AD_djvu.xml',\n",
       "  'mtime': '1571490446',\n",
       "  'size': '23705',\n",
       "  'md5': '91d9b5bcc5c4219bc7d672b7486473f5',\n",
       "  'crc32': '204d0cdc',\n",
       "  'sha1': '38ee88393c40be4c5a44e41f5edba8f0f0e8f6cb'},\n",
       " {'name': '1200 The Dresden Codex 1200 AD_text.pdf',\n",
       "  'source': 'derivative',\n",
       "  'format': 'Additional Text PDF',\n",
       "  'original': '1200 The Dresden Codex 1200 AD_abbyy.gz',\n",
       "  'mtime': '1571304837',\n",
       "  'size': '41600574',\n",
       "  'md5': 'eeedd04fc1f43dd2f7abf72115f69c94',\n",
       "  'crc32': '54620374',\n",
       "  'sha1': '7f2fea2a2fb0e5558648996b2921daf7a8ee2c4a'},\n",
       " {'name': '1200thedresdencodex1200ad_archive.torrent',\n",
       "  'source': 'metadata',\n",
       "  'btih': '5ab0bef5b44d2a5884806d105d6eff95ec7fc07b',\n",
       "  'mtime': '1613096055',\n",
       "  'size': '10216',\n",
       "  'md5': '0f572503c4c49e815b694531e1a85d71',\n",
       "  'crc32': '3eff2fbb',\n",
       "  'sha1': '3fe2c9ec323e9de00220f6a7a5436cf31773dc10',\n",
       "  'format': 'Archive BitTorrent'},\n",
       " {'name': '1200thedresdencodex1200ad_files.xml',\n",
       "  'source': 'original',\n",
       "  'format': 'Metadata',\n",
       "  'md5': 'b9582929fb703eac7be717d10e9fa968'},\n",
       " {'name': '1200thedresdencodex1200ad_meta.sqlite',\n",
       "  'source': 'original',\n",
       "  'mtime': '1571490451',\n",
       "  'size': '11264',\n",
       "  'format': 'Metadata',\n",
       "  'md5': '58c11868866e84fe9ba4a326266d4509',\n",
       "  'crc32': '17f0bbcd',\n",
       "  'sha1': '73c76059f667721abdf9632ce234ad4105896321'},\n",
       " {'name': '1200thedresdencodex1200ad_meta.xml',\n",
       "  'source': 'original',\n",
       "  'mtime': '1613096053',\n",
       "  'size': '5764',\n",
       "  'format': 'Metadata',\n",
       "  'md5': '10837dea37eb15e03ed9ff3dcde229ee',\n",
       "  'crc32': '850aa7d8',\n",
       "  'sha1': '68d6c1d8f96a3db8110c8fc202d479d934695f25'},\n",
       " {'name': '__ia_thumb.jpg',\n",
       "  'source': 'original',\n",
       "  'mtime': '1613096054',\n",
       "  'size': '34478',\n",
       "  'format': 'Item Tile',\n",
       "  'rotation': '0',\n",
       "  'md5': 'f4a985b9ad1f1c13df50d748a4e950a9',\n",
       "  'crc32': '210040d2',\n",
       "  'sha1': '588822618f0bf51f58a2c44155283ecc3bf54576'}]"
      ]
     },
     "execution_count": 5,
     "metadata": {},
     "output_type": "execute_result"
    }
   ],
   "source": [
    "item.files"
   ]
  },
  {
   "cell_type": "code",
   "execution_count": 7,
   "metadata": {},
   "outputs": [
    {
     "name": "stdout",
     "output_type": "stream",
     "text": [
      "1200thedresdencodex1200ad:\n",
      " downloaded 1200thedresdencodex1200ad/1200 The Dresden Codex 1200 AD_jp2.zip to 1200thedresdencodex1200ad/1200 The Dresden Codex 1200 AD_jp2.zip\n"
     ]
    },
    {
     "data": {
      "text/plain": [
       "[]"
      ]
     },
     "execution_count": 7,
     "metadata": {},
     "output_type": "execute_result"
    }
   ],
   "source": [
    "downloaded_file = download(book_id, verbose=True, formats='Single Page Processed JP2 ZIP')"
   ]
  },
  {
   "cell_type": "code",
   "execution_count": 26,
   "metadata": {},
   "outputs": [
    {
     "ename": "NameError",
     "evalue": "name 'downloaded_file' is not defined",
     "output_type": "error",
     "traceback": [
      "\u001b[0;31m---------------------------------------------------------------------------\u001b[0m",
      "\u001b[0;31mNameError\u001b[0m                                 Traceback (most recent call last)",
      "\u001b[0;32m/tmp/ipykernel_158665/740706831.py\u001b[0m in \u001b[0;36m<module>\u001b[0;34m\u001b[0m\n\u001b[0;32m----> 1\u001b[0;31m \u001b[0mtype\u001b[0m\u001b[0;34m(\u001b[0m\u001b[0mdownloaded_file\u001b[0m\u001b[0;34m)\u001b[0m\u001b[0;34m\u001b[0m\u001b[0;34m\u001b[0m\u001b[0m\n\u001b[0m",
      "\u001b[0;31mNameError\u001b[0m: name 'downloaded_file' is not defined"
     ]
    }
   ],
   "source": [
    "type(downloaded_file)"
   ]
  },
  {
   "cell_type": "code",
   "execution_count": 8,
   "metadata": {},
   "outputs": [],
   "source": [
    "import zipfile\n",
    "\n",
    "with zipfile.ZipFile('1200thedresdencodex1200ad/1200 The Dresden Codex 1200 AD_jp2.zip', 'r') as zip_ref:\n",
    "    zip_ref.extractall('codex/unzipped')"
   ]
  },
  {
   "cell_type": "code",
   "execution_count": 9,
   "metadata": {},
   "outputs": [],
   "source": [
    "import tarfile\n",
    "\n",
    "tar_file = tarfile.open('superarboribusco00giov/superarboribusco00giov_orig_jp2.tar')\n",
    "tar_file.extractall('test/')\n",
    "tar_file.close()"
   ]
  },
  {
   "cell_type": "code",
   "execution_count": null,
   "metadata": {},
   "outputs": [],
   "source": [
    "import os\n",
    "import cv2\n",
    "\n",
    "jp2_files_dir = 'codex/unzipped/1200 The Dresden Codex 1200 AD_jp2/'\n",
    "\n",
    "for i in os.listdir(jp2_files_dir):\n",
    "    # print(os.path.join(jp2_files_dir, i))\n",
    "    image = cv2.imread(os.path.join(jp2_files_dir, i))\n",
    "    # cv2.imwrite(os.path.basename(jp2_files_dir)+ i + '.png', image)\n",
    "    "
   ]
  },
  {
   "cell_type": "code",
   "execution_count": 19,
   "metadata": {},
   "outputs": [
    {
     "data": {
      "text/plain": [
       "True"
      ]
     },
     "execution_count": 19,
     "metadata": {},
     "output_type": "execute_result"
    }
   ],
   "source": [
    "\n",
    "\n",
    "image_file = 'test/superarboribusco00giov_orig_jp2/superarboribusco00giov_orig_0000.jp2'\n",
    "\n",
    "image = cv2.imread(image_file)\n",
    "cv2.imwrite('image.png', image)"
   ]
  },
  {
   "cell_type": "code",
   "execution_count": 25,
   "metadata": {},
   "outputs": [],
   "source": [
    "from tqdm import tqdm\n",
    "\n",
    "book_file = 'superarboribusco00giov/superarboribusco00giov_orig_jp2.tar'\n",
    "temp_dir = 'test/superarboribusco00giov_orig_jp2'\n",
    "\n",
    "for file in os.listdir(temp_dir):\n",
    "    if file.endswith('.jp2'):\n",
    "        image = cv2.imread(os.path.join(temp_dir, file))\n",
    "        cv2.imwrite(os.path.join(temp_dir, os.path.basename(book_file), (file[:-4] + '.png')), image)"
   ]
  },
  {
   "cell_type": "code",
   "execution_count": 17,
   "metadata": {},
   "outputs": [
    {
     "name": "stderr",
     "output_type": "stream",
     "text": [
      "image too large\n",
      "error: cannot decode code stream\n"
     ]
    },
    {
     "ename": "error",
     "evalue": "OpenCV(4.5.5) /home/conda/feedstock_root/build_artifacts/libopencv_1641992584137/work/modules/imgcodecs/src/loadsave.cpp:801: error: (-215:Assertion failed) !_img.empty() in function 'imwrite'\n",
     "output_type": "error",
     "traceback": [
      "\u001b[0;31m---------------------------------------------------------------------------\u001b[0m",
      "\u001b[0;31merror\u001b[0m                                     Traceback (most recent call last)",
      "\u001b[0;32m/tmp/ipykernel_652481/3402740172.py\u001b[0m in \u001b[0;36m<module>\u001b[0;34m\u001b[0m\n\u001b[1;32m      2\u001b[0m \u001b[0;34m\u001b[0m\u001b[0m\n\u001b[1;32m      3\u001b[0m \u001b[0mimage\u001b[0m \u001b[0;34m=\u001b[0m \u001b[0mcv2\u001b[0m\u001b[0;34m.\u001b[0m\u001b[0mimread\u001b[0m\u001b[0;34m(\u001b[0m\u001b[0;34m'codex/unzipped/1200 The Dresden Codex 1200 AD_jp2/1200 The Dresden Codex 1200 AD_0000.jp2'\u001b[0m\u001b[0;34m)\u001b[0m\u001b[0;34m\u001b[0m\u001b[0;34m\u001b[0m\u001b[0m\n\u001b[0;32m----> 4\u001b[0;31m \u001b[0mcv2\u001b[0m\u001b[0;34m.\u001b[0m\u001b[0mimwrite\u001b[0m\u001b[0;34m(\u001b[0m\u001b[0;34m'image.png'\u001b[0m\u001b[0;34m,\u001b[0m \u001b[0mimage\u001b[0m\u001b[0;34m)\u001b[0m\u001b[0;34m\u001b[0m\u001b[0;34m\u001b[0m\u001b[0m\n\u001b[0m",
      "\u001b[0;31merror\u001b[0m: OpenCV(4.5.5) /home/conda/feedstock_root/build_artifacts/libopencv_1641992584137/work/modules/imgcodecs/src/loadsave.cpp:801: error: (-215:Assertion failed) !_img.empty() in function 'imwrite'\n"
     ]
    }
   ],
   "source": [
    "import cv2\n",
    "\n",
    "image = cv2.imread('codex/unzipped/1200 The Dresden Codex 1200 AD_jp2/1200 The Dresden Codex 1200 AD_0000.jp2')\n",
    "cv2.imwrite('image.png', image)"
   ]
  },
  {
   "cell_type": "code",
   "execution_count": null,
   "metadata": {},
   "outputs": [],
   "source": []
  }
 ],
 "metadata": {
  "interpreter": {
   "hash": "530db59bf0a32760944bdb6849feea7260d0b9a2c2df630689235794c5c2ab38"
  },
  "kernelspec": {
   "display_name": "Python 3.8.12 64-bit ('libros': conda)",
   "language": "python",
   "name": "python3"
  },
  "language_info": {
   "codemirror_mode": {
    "name": "ipython",
    "version": 3
   },
   "file_extension": ".py",
   "mimetype": "text/x-python",
   "name": "python",
   "nbconvert_exporter": "python",
   "pygments_lexer": "ipython3",
   "version": "3.8.12"
  },
  "orig_nbformat": 4
 },
 "nbformat": 4,
 "nbformat_minor": 2
}
